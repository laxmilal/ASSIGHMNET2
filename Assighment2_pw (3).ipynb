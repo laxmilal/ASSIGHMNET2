{
  "nbformat": 4,
  "nbformat_minor": 0,
  "metadata": {
    "colab": {
      "provenance": []
    },
    "kernelspec": {
      "name": "python3",
      "display_name": "Python 3"
    },
    "language_info": {
      "name": "python"
    }
  },
  "cells": [
    {
      "cell_type": "code",
      "execution_count": null,
      "metadata": {
        "id": "s-ZHdOJCiVrS"
      },
      "outputs": [],
      "source": []
    },
    {
      "cell_type": "markdown",
      "source": [
        " # 1. What are data structures, and why are they important?\n",
        " Ans- Data structures are ways to organize and store data efficiently for access and modification. They are important because they help solve problems efficiently, manage large amounts of data and improve code performance."
      ],
      "metadata": {
        "id": "LccGv-vXnYaV"
      }
    },
    {
      "cell_type": "markdown",
      "source": [
        "# 2.Explain the difference between mutable and immutable data types with examples?\n",
        "\n",
        "The difference between mutable and immutable data types in programming especially in Python lies in whether the data can be changed after it is created.\n",
        "Def: These can be changed after they are created.\n",
        "Ex : list, dict, set\n",
        "my_list = [1, 2, 3]\n",
        "my_list[0] = 100\n",
        "print(my_list)  \n",
        "result: [100, 2, 3]\n",
        "\n",
        "def: Definition: These cannot be changed after they are created.\n",
        "Ex: int, float, str, tuple, bool\n",
        "my_str = \"hello\"\n",
        "Trying to change the first character will cause an error\n",
        "my_str[0] = 'H'    # This will raise a TypeError\n",
        "my_str = \"Hello\"   # This creates a new string object\n",
        "print(my_str)      # Output: Hello\n",
        "Strings are immutable — you can’t change them in-place. Assigning a new value creates a new object.\n",
        "\n",
        "\n"
      ],
      "metadata": {
        "id": "fNgwo6KinqOn"
      }
    },
    {
      "cell_type": "markdown",
      "source": [
        " # 3. What are the Main differences between lists and tuples ?\n",
        " Ans - my_list = [1, 2, 3]  \n",
        "my_list[0] = 100  # Ye allowed hai  \n",
        "print(my_list)  # Output: [100, 2, 3]\n",
        "hence, list is mutability you can change the stored data to in the list.\n",
        "\n",
        "my_tuple = (1, 2, 3)  \n",
        "my_tuple[0] = 100  # its try to change the data but here it is a tuple stored data so it can be chnaged so it throw error.\n",
        "henace, tuple is immutable.\n"
      ],
      "metadata": {
        "id": "41ZVOvkEqLok"
      }
    },
    {
      "cell_type": "markdown",
      "source": [
        "  # 4. Describe how dictionaries store data?\n",
        " Dictionaries store data in key-value pairs using a hash table. Each key is hashed to a memory location where its value is stored."
      ],
      "metadata": {
        "id": "i7iQJ-LWr1pO"
      }
    },
    {
      "cell_type": "markdown",
      "source": [],
      "metadata": {
        "id": "4iC-DX7JqHTQ"
      }
    },
    {
      "cell_type": "markdown",
      "source": [
        " # 5.Why might you use a set instead of a list in Python?\n",
        " To store unique elements only to perform faster membership tests in is faster in sets."
      ],
      "metadata": {
        "id": "pe4oUe-1sZab"
      }
    },
    {
      "cell_type": "markdown",
      "source": [
        "6.# What is a string in Python, and how is it different from a list?\n",
        " string is a sequence of characters and it's is immutable\n",
        " A list is a sequence of elements and it's mutable and can contain different types.\n",
        " a = \"laxmi kant\" its is string\n",
        " b = [\"l\",\"a\",\"x\",\"m\",\"i\",\"k\",\"A\",\"N\",\"T\"] it's is list."
      ],
      "metadata": {
        "id": "Zo811AoCs3zm"
      }
    },
    {
      "cell_type": "markdown",
      "source": [
        " # 7.How do tuples ensure data integrity in Python?\n",
        "  Ans- Because tuples are immutable, their data can't be altered accidentally, ensuring that values remain consistent.\n",
        "# 8. What is a hash table, and how does it relate to dictionaries?\n",
        " Ans-A hash table maps keys to values using a hash function. Dictionaries in Python are built on hash tables to provide constant-time lookup.\n",
        "# 9. Can lists contain different data types in Python?\n",
        " Ans- yes list can contain different data type\n",
        " a = [1,2.3,2.3j,\"laxmi\"]\n",
        " # 10. Explain why are strings immutable in Python?\n",
        "Ans- For memory efficiency, thread safety, and because they are frequently used as dictionary keys (which require immutability for hashing).\n",
        " # 11. What advantages do dictionaries offer over lists for certain tasks?\n",
        " Faster lookups using keys?\n",
        "Ans- Key-value mapping for better data representation More semantic clarity when data has identifiers.\n",
        " # 12. Describe a scenario where using a tuple would be preferable over a list\n",
        "Ans- A tuple would be preferable over a list when you need to represent a fixed immutable sequence of data like a coordinate point or a set of constants.\n",
        " # 13. How do sets handle duplicate values?\n",
        "Ans- Sets automatically remove duplicates.\n",
        " s = {1, 2, 2, 3}     # output: {1, 2, 3}\n",
        " # 14. How does the “in” keyword work differently for lists and dictionaries?\n",
        "Ans- \"in\" list Checks if the value is present\n",
        " list = [1,2,3]\n",
        " 2 in list result: True\n",
        " \"in\" idictionaries Checks if the key is present or not\n",
        " dict = {\"name\":\"laxmi\",\"age\": 30}\n",
        "  name in dict result: True\n",
        "\n",
        "# 15. Can you modify elements of a tuple? Why or why not?\n",
        "Ans - No. we cannot modify Tuples becasue they are immutable so once created elements can't be changed.\n",
        "# 16. What is a nested dictionary? Example use case?\n",
        "Ans- A nested dictinory means dictionary inside another dictionary.\n",
        " students = {\"101\": {\"name\": \"Amit\", \"age\": 20},\"102\": {\"name\": \"Priya\", \"age\": 22}} result: {'101':\n",
        " {'name': 'Amit', 'age': 20}, '102': {'name': 'Priya', 'age': 22}}\n",
        " 17. Describe the Time complexity of accessing elements in a dictionary\n",
        "Ans- Average-case: O(1) Accessing an item in a dictionary is usually very fast\n",
        "  Worst-case (rare): O(n) due to hash collisions.\n",
        " 18. In what situations are lists preferred over dictionaries?\n",
        "Ans- When data has no unique key.\n",
        " When order matters (before Python 3.7).\n",
        " For simple sequences like numbers, names, etc.\n",
        " 19. Why are dictionaries considered unordered, and how does that affect retrieval?\n",
        " Ans- Before Python 3.7, dictionaries did not maintain insertion order. From Python 3.7+, they preserve\n",
        " order but still focus on key-based access. Retrieval is based on key, not position.\n",
        " 20. Explain the difference between a list and a dictionary in terms of data retrieval.\n",
        " Ans- List: Access by index (position).\n",
        " Dictionary: Access by key.\n",
        " a = ['grapes', 'banana']\n",
        " print(l[1])        # ouput: banana\n",
        " b = {'fruit': 'banana'}\n",
        " print(d['fruit'])  #result: banana\n",
        "\n"
      ],
      "metadata": {
        "id": "VQDAcHY7t-5U"
      }
    },
    {
      "cell_type": "markdown",
      "source": [],
      "metadata": {
        "id": "sKxeCVH-xeO6"
      }
    },
    {
      "cell_type": "code",
      "source": [
        "# practical question.\n",
        "# wrint a code to create a string with your name and print it ?"
      ],
      "metadata": {
        "id": "l2AwvOCaxiFo"
      },
      "execution_count": null,
      "outputs": []
    },
    {
      "cell_type": "code",
      "source": [
        "a = \"laxmikant\"\n",
        "print(a)"
      ],
      "metadata": {
        "colab": {
          "base_uri": "https://localhost:8080/"
        },
        "id": "dkZf0uQbxqGV",
        "outputId": "5f464d0b-98d8-4b09-e10e-ca1ed9fcc8f5"
      },
      "execution_count": null,
      "outputs": [
        {
          "output_type": "stream",
          "name": "stdout",
          "text": [
            "laxmikant\n"
          ]
        }
      ]
    },
    {
      "cell_type": "markdown",
      "source": [],
      "metadata": {
        "id": "6lDMPMKHptos"
      }
    },
    {
      "cell_type": "code",
      "source": [
        "# write a code to find the lenth of the string \"hello world\" ?\n",
        "a= \"hello world\"\n",
        "print(len(a))"
      ],
      "metadata": {
        "colab": {
          "base_uri": "https://localhost:8080/"
        },
        "id": "_nJAya6IyiFU",
        "outputId": "26bc0112-16d8-4401-a046-f075f091d67e"
      },
      "execution_count": null,
      "outputs": [
        {
          "output_type": "stream",
          "name": "stdout",
          "text": [
            "11\n"
          ]
        }
      ]
    },
    {
      "cell_type": "code",
      "source": [
        "# write a code to slice the first 3 character from the string  \"python programing\" ?\n",
        "str= \"python programing\"\n",
        "print(str[0:3])\n"
      ],
      "metadata": {
        "colab": {
          "base_uri": "https://localhost:8080/"
        },
        "id": "E0qt61PRzX0e",
        "outputId": "11296c20-01fd-48d5-f5f7-7add6c045c7e"
      },
      "execution_count": null,
      "outputs": [
        {
          "output_type": "stream",
          "name": "stdout",
          "text": [
            "pyt\n"
          ]
        }
      ]
    },
    {
      "cell_type": "code",
      "source": [
        "# write a code to convert the string \"hello\" to upper case?\n",
        "str = \"laxmi_kant\"\n",
        "print(str.upper())"
      ],
      "metadata": {
        "colab": {
          "base_uri": "https://localhost:8080/"
        },
        "id": "CqJ44pLs2gE6",
        "outputId": "37191de3-757a-4076-836a-c8030a940239"
      },
      "execution_count": null,
      "outputs": [
        {
          "output_type": "stream",
          "name": "stdout",
          "text": [
            "LAXMI_KANT\n"
          ]
        }
      ]
    },
    {
      "cell_type": "code",
      "source": [
        "# write a code to replace the word \"apple\" with \"ornage\" in the string \"i like apple\" ?\n",
        "string= \"i like apple\"\n",
        "print(string.replace(\"apple\", \"orange\"))\n"
      ],
      "metadata": {
        "colab": {
          "base_uri": "https://localhost:8080/"
        },
        "id": "3k8mez979Nbm",
        "outputId": "5dc63cdd-f031-445c-bbbf-2022e57b2948"
      },
      "execution_count": null,
      "outputs": [
        {
          "output_type": "stream",
          "name": "stdout",
          "text": [
            "i like orange\n"
          ]
        }
      ]
    },
    {
      "cell_type": "code",
      "source": [
        "# write a code to create a list with number to 1 to 5 and print it ?\n",
        "list=[2,4,6,8,10,12]\n",
        "print(list)\n"
      ],
      "metadata": {
        "colab": {
          "base_uri": "https://localhost:8080/"
        },
        "id": "wm1wwxOR-RtL",
        "outputId": "8f0fe224-ca26-4fb1-df49-9b50a181b0bf"
      },
      "execution_count": null,
      "outputs": [
        {
          "output_type": "stream",
          "name": "stdout",
          "text": [
            "[2, 4, 6, 8, 10, 12]\n"
          ]
        }
      ]
    },
    {
      "cell_type": "code",
      "source": [
        "#write a code to append the number 10 to the list[1,2,3,4,5,6,7,8,9]\n",
        "list=[1,2,3,4,5,6,7,8,9]\n",
        "list.append(10)\n",
        "print(list)"
      ],
      "metadata": {
        "colab": {
          "base_uri": "https://localhost:8080/"
        },
        "id": "9F2qDmtxPWM_",
        "outputId": "4bbe6746-1322-4e16-ddee-b907240659c2"
      },
      "execution_count": null,
      "outputs": [
        {
          "output_type": "stream",
          "name": "stdout",
          "text": [
            "[1, 2, 3, 4, 5, 6, 7, 8, 9, 10]\n"
          ]
        }
      ]
    },
    {
      "cell_type": "code",
      "source": [
        "# write a code to remove the number 3 from the list [1,2,3,4,5] ?\n",
        "list=[1,2,3,4,5]\n",
        "list.remove(3)\n",
        "print(list)"
      ],
      "metadata": {
        "colab": {
          "base_uri": "https://localhost:8080/"
        },
        "id": "IsOoAHeSQvm7",
        "outputId": "d883356b-4318-4614-e127-d8048e9b1356"
      },
      "execution_count": null,
      "outputs": [
        {
          "output_type": "stream",
          "name": "stdout",
          "text": [
            "[1, 2, 4, 5]\n"
          ]
        }
      ]
    },
    {
      "cell_type": "code",
      "source": [
        "# wirte a code to access the second element in the list ['a','b','c','d']\n",
        "list=['a','b','c','d']\n",
        "print(list[1])"
      ],
      "metadata": {
        "colab": {
          "base_uri": "https://localhost:8080/"
        },
        "id": "dGjkcXUnRIzu",
        "outputId": "371901ba-75a7-4a01-c3fe-d0fb80e9f235"
      },
      "execution_count": null,
      "outputs": [
        {
          "output_type": "stream",
          "name": "stdout",
          "text": [
            "b\n"
          ]
        }
      ]
    },
    {
      "cell_type": "code",
      "source": [
        "# write the code to reverse the list [10,20,30,40,50]?\n",
        "list=[10,20,30,40,50]\n",
        "list.reverse()\n",
        "print(list)"
      ],
      "metadata": {
        "colab": {
          "base_uri": "https://localhost:8080/"
        },
        "id": "ovpDQMBLS4A-",
        "outputId": "d1093ffa-a8f2-4ed8-b700-71bf8ca89de1"
      },
      "execution_count": null,
      "outputs": [
        {
          "output_type": "stream",
          "name": "stdout",
          "text": [
            "[50, 40, 30, 20, 10]\n"
          ]
        }
      ]
    },
    {
      "cell_type": "code",
      "source": [
        "# write the code to create a tuple with the element 100,200,300 and print it?\n",
        "tuple =(100,200,300)\n",
        "print(tuple)\n"
      ],
      "metadata": {
        "colab": {
          "base_uri": "https://localhost:8080/"
        },
        "id": "h-NXRB7VTWG1",
        "outputId": "d14bf54b-7c4b-4009-d182-3deed20d6a6e"
      },
      "execution_count": null,
      "outputs": [
        {
          "output_type": "stream",
          "name": "stdout",
          "text": [
            "(100, 200, 300)\n"
          ]
        }
      ]
    },
    {
      "cell_type": "code",
      "source": [
        "# write the code to create the second to list element of the tuple('red','green','blue','yellow') ?\n",
        "tuple=('red','green','blue','yellow')\n",
        "print(tuple[1])"
      ],
      "metadata": {
        "colab": {
          "base_uri": "https://localhost:8080/"
        },
        "id": "YF5P-zXQU_bP",
        "outputId": "70b2cfb5-7ae8-4a6c-9a09-d804585d9d21"
      },
      "execution_count": null,
      "outputs": [
        {
          "output_type": "stream",
          "name": "stdout",
          "text": [
            "green\n"
          ]
        }
      ]
    },
    {
      "cell_type": "code",
      "source": [
        "# write a code to find the mininmum number of the tuple(10,20,30,40)\n",
        "tuple=(10,20,30,40)\n",
        "print(min(tuple))"
      ],
      "metadata": {
        "colab": {
          "base_uri": "https://localhost:8080/"
        },
        "id": "qNotkgagVwxk",
        "outputId": "7a23d7fc-cf5f-4162-ddf7-cc33f648e784"
      },
      "execution_count": null,
      "outputs": [
        {
          "output_type": "stream",
          "name": "stdout",
          "text": [
            "10\n"
          ]
        }
      ]
    },
    {
      "cell_type": "code",
      "source": [
        "# write a code to find the index of the element \"cat\" in the tuple (dog, cat,yellow) ?\n",
        "tuple=('dog','cat', 'yellow')\n",
        "print(tuple.index(\"cat\"))"
      ],
      "metadata": {
        "colab": {
          "base_uri": "https://localhost:8080/"
        },
        "id": "vcxOTsa7iu0q",
        "outputId": "9ba378db-c4b2-4dc0-8e23-a29dd2483e2f"
      },
      "execution_count": null,
      "outputs": [
        {
          "output_type": "stream",
          "name": "stdout",
          "text": [
            "1\n"
          ]
        }
      ]
    },
    {
      "cell_type": "code",
      "source": [
        "# write the code to create a tuple containing three element fruit and check if ; \"kiwi\" is in it ?\n",
        "tuple = (\"apple\",\"banana\",'kiwi')\n",
        "print(\"kiwi\" in tuple)"
      ],
      "metadata": {
        "colab": {
          "base_uri": "https://localhost:8080/"
        },
        "id": "4mwE_Nayj3Gv",
        "outputId": "c56cb58c-1f0b-4e4f-a2b1-bdfb87b84828"
      },
      "execution_count": null,
      "outputs": [
        {
          "output_type": "stream",
          "name": "stdout",
          "text": [
            "True\n"
          ]
        }
      ]
    },
    {
      "cell_type": "code",
      "source": [
        "# Write the code to create a set with the element \"a\",'b','c', in it?\n",
        "set={'a','b','c','d'}\n",
        "print(set)"
      ],
      "metadata": {
        "colab": {
          "base_uri": "https://localhost:8080/"
        },
        "id": "W0su-8bjmsQC",
        "outputId": "c3f0ecad-6841-4b82-9d2c-d3bc0d15bd10"
      },
      "execution_count": null,
      "outputs": [
        {
          "output_type": "stream",
          "name": "stdout",
          "text": [
            "{'a', 'b', 'c', 'd'}\n"
          ]
        }
      ]
    },
    {
      "cell_type": "code",
      "source": [
        "# write a code to clear all element from the set {1,2,3,4}\n",
        "set={1,2,3,4}\n",
        "set.clear()\n",
        "print(set)"
      ],
      "metadata": {
        "colab": {
          "base_uri": "https://localhost:8080/"
        },
        "id": "ouDjaBl5pXbD",
        "outputId": "b3976268-e401-47ce-cbf2-933332757dac"
      },
      "execution_count": null,
      "outputs": [
        {
          "output_type": "stream",
          "name": "stdout",
          "text": [
            "set()\n"
          ]
        }
      ]
    },
    {
      "cell_type": "code",
      "source": [
        "# write the code to remove the element 4 from the set {1,2,3,4}\n",
        "set={1,2,3,4}\n",
        "set.remove(4)\n",
        "print(set)"
      ],
      "metadata": {
        "colab": {
          "base_uri": "https://localhost:8080/"
        },
        "id": "uAEZtEK1p_QA",
        "outputId": "6e285ad7-f100-480d-810c-9fbca5eea41d"
      },
      "execution_count": null,
      "outputs": [
        {
          "output_type": "stream",
          "name": "stdout",
          "text": [
            "{1, 2, 3}\n"
          ]
        }
      ]
    },
    {
      "cell_type": "code",
      "source": [
        "#write the code to find the union of the set {1,2,3,} and{3,4,5}\n",
        "set1={1,2,3}\n",
        "set2={3,4,5}\n",
        "print(set1.union(set2))"
      ],
      "metadata": {
        "colab": {
          "base_uri": "https://localhost:8080/"
        },
        "id": "8xJIOWHAqWCD",
        "outputId": "cb634a8e-e600-4620-9bc4-291266d9f329"
      },
      "execution_count": null,
      "outputs": [
        {
          "output_type": "stream",
          "name": "stdout",
          "text": [
            "{1, 2, 3, 4, 5}\n"
          ]
        }
      ]
    },
    {
      "cell_type": "code",
      "source": [
        "# write the code to find interatction of the set {1,2,3} and {2,3,4} ?\n",
        "set1={1,2,3}\n",
        "set2={2,3,4}\n",
        "set3=set1.intersection()\n",
        "print(set3)"
      ],
      "metadata": {
        "colab": {
          "base_uri": "https://localhost:8080/"
        },
        "id": "Qls_Gq0wsVmH",
        "outputId": "1e1dd57e-6844-42b8-a591-ec0bdbbdfea8"
      },
      "execution_count": null,
      "outputs": [
        {
          "output_type": "stream",
          "name": "stdout",
          "text": [
            "{1, 2, 3}\n"
          ]
        }
      ]
    },
    {
      "cell_type": "code",
      "source": [
        "# write the code to create dictionary with the key\"name\" in the dictionary{\"name\":\"john\", \"age\":25}\n",
        "dict={\"name\":\"john\", \"age\":25}\n",
        "print(dict)"
      ],
      "metadata": {
        "colab": {
          "base_uri": "https://localhost:8080/"
        },
        "id": "rmenRZAWvgk1",
        "outputId": "0749ffde-07bc-40ff-9496-4efa79a66259"
      },
      "execution_count": null,
      "outputs": [
        {
          "output_type": "stream",
          "name": "stdout",
          "text": [
            "{'name': 'john', 'age': 25}\n"
          ]
        }
      ]
    },
    {
      "cell_type": "code",
      "source": [
        "# write the code to access the value pair \"country':\"usa\", to the dictionary{\"name\":'alice\":\"age\": 25}\n",
        "dict= {\"name\":\"alice\",'age':25,\"country\":\"usa\"}\n",
        "print(dict[\"country\"])"
      ],
      "metadata": {
        "colab": {
          "base_uri": "https://localhost:8080/"
        },
        "id": "KGvroXQ6wORw",
        "outputId": "236dfe3d-a6dd-4ca3-ed63-a06bf6e3ecc5"
      },
      "execution_count": null,
      "outputs": [
        {
          "output_type": "stream",
          "name": "stdout",
          "text": [
            "usa\n"
          ]
        }
      ]
    },
    {
      "cell_type": "code",
      "source": [
        "# write the code to add a new key value pair \"country\":\"usa\" to the dictionary {\"name\":\"john\",\"age\": 25} ?\n",
        "dict= {\"name\":\"john\",\"age\": 25}\n",
        "dict[\"country\"]=\"usa\"\n",
        "print(dict)"
      ],
      "metadata": {
        "colab": {
          "base_uri": "https://localhost:8080/"
        },
        "id": "Xtvah9zIxZTz",
        "outputId": "b660d8b8-3443-44ae-f0db-bf48950a986d"
      },
      "execution_count": null,
      "outputs": [
        {
          "output_type": "stream",
          "name": "stdout",
          "text": [
            "{'name': 'john', 'age': 25, 'country': 'usa'}\n"
          ]
        }
      ]
    },
    {
      "cell_type": "code",
      "source": [
        " # write the code to access the value associated with key \"name\" in the dictionary {\"name\":\"john\", \"age\":30}?\n",
        " dict= {\"name\":\"john\",\"age\":30}\n",
        " print(dict[\"name\"])"
      ],
      "metadata": {
        "colab": {
          "base_uri": "https://localhost:8080/"
        },
        "id": "L2KWQiKd1CpM",
        "outputId": "1f98c0b0-edc6-4ff9-f786-064701511bf3"
      },
      "execution_count": null,
      "outputs": [
        {
          "output_type": "stream",
          "name": "stdout",
          "text": [
            "john\n"
          ]
        }
      ]
    },
    {
      "cell_type": "code",
      "source": [
        "# write acode to check if the key \"city\" exist in the dictionary, print them all ?\n",
        "dict= {\"city\":\"jaipur\",\"state\":\"rajasthan\"}\n",
        "if \"city\" in dict:\n",
        "    print(\" exist city\")\n",
        "else:\n",
        "    print(\"not exist\")"
      ],
      "metadata": {
        "colab": {
          "base_uri": "https://localhost:8080/"
        },
        "id": "3z7GInvyZS-E",
        "outputId": "d26ba319-c51e-4d5a-ff1c-a82ce751e2aa"
      },
      "execution_count": null,
      "outputs": [
        {
          "output_type": "stream",
          "name": "stdout",
          "text": [
            " exist city\n"
          ]
        }
      ]
    },
    {
      "cell_type": "code",
      "source": [
        "# write a code to remove the key \"age\" from the ditionary{\"name\":\"alice\",\"city\":\"new york\", \"age\":22}\n",
        "dict= {\"name\":\"alice\",\"city\":\"new york\", \"age\":22}\n",
        "dict.pop (\"age\")\n",
        "print(dict)"
      ],
      "metadata": {
        "colab": {
          "base_uri": "https://localhost:8080/"
        },
        "id": "-TJo5L7EaZDz",
        "outputId": "09920e70-63b0-4a84-a95a-c0e49fa3c3e7"
      },
      "execution_count": null,
      "outputs": [
        {
          "output_type": "stream",
          "name": "stdout",
          "text": [
            "{'name': 'alice', 'city': 'new york'}\n"
          ]
        }
      ]
    },
    {
      "cell_type": "code",
      "source": [
        "# 26.Write a code to create a list, a tuple, and a dictionary, and print them all.\n",
        "real =[1, 2, 3]\n",
        "real2 = (4, 5, 6)\n",
        "dictionary = {\"key1\": \"value1\", \"key2\": \"value2\"}\n",
        "print(real)\n",
        "print(real2)\n",
        "print(dictionary)"
      ],
      "metadata": {
        "colab": {
          "base_uri": "https://localhost:8080/"
        },
        "id": "bte9GPome2U9",
        "outputId": "f2be12de-c830-46e3-f34b-f856357e4714"
      },
      "execution_count": null,
      "outputs": [
        {
          "output_type": "stream",
          "name": "stdout",
          "text": [
            "[1, 2, 3]\n",
            "(4, 5, 6)\n",
            "{'key1': 'value1', 'key2': 'value2'}\n"
          ]
        }
      ]
    },
    {
      "cell_type": "code",
      "source": [
        "#27.Write a code to create a list of 5 random numbers between 1 and 100, sort it in asce\n",
        "chasta = [22,55,11,5,98]\n",
        "a.sort()\n",
        "print(a)"
      ],
      "metadata": {
        "colab": {
          "base_uri": "https://localhost:8080/"
        },
        "id": "-ueV13oJgqny",
        "outputId": "00cf22fe-86b1-40ad-bedf-6682031c67dd"
      },
      "execution_count": null,
      "outputs": [
        {
          "output_type": "stream",
          "name": "stdout",
          "text": [
            "[5, 11, 22, 55, 98]\n"
          ]
        }
      ]
    },
    {
      "cell_type": "code",
      "source": [
        " # 28. Write a code to create a list with strings and print the element at the third index\n",
        " my_list = [\"apple\", \"banana\", \"cherry\", \"date\", \"elderberry\"]\n",
        " print(my_list[2])"
      ],
      "metadata": {
        "colab": {
          "base_uri": "https://localhost:8080/"
        },
        "id": "Ad4SjXhdhRde",
        "outputId": "7741997c-03c0-45e8-86ca-42af61d186fd"
      },
      "execution_count": null,
      "outputs": [
        {
          "output_type": "stream",
          "name": "stdout",
          "text": [
            "cherry\n"
          ]
        }
      ]
    },
    {
      "cell_type": "code",
      "source": [
        " # 29. Write a code to combine two dictionaries into one and print the result.\n",
        " dict1 = {'a': 1, 'b': 2}\n",
        " dict2 = {'c': 3, 'd': 4}\n",
        " combine = {**dict1, **dict2}\n",
        " print(combine)"
      ],
      "metadata": {
        "colab": {
          "base_uri": "https://localhost:8080/"
        },
        "id": "PL9nHdi7hhyU",
        "outputId": "8b4ce7a2-c5fa-4593-bb72-68e265c45133"
      },
      "execution_count": null,
      "outputs": [
        {
          "output_type": "stream",
          "name": "stdout",
          "text": [
            "{'a': 1, 'b': 2, 'c': 3, 'd': 4}\n"
          ]
        }
      ]
    },
    {
      "cell_type": "code",
      "source": [
        "# 30. Write a code to convert a list of strings into a set.\n",
        "list= [\"apple\", \"banana\", \"cherry\", \"apple\", \"banana\"]\n",
        "set1 = set(list)\n",
        "print(set1)"
      ],
      "metadata": {
        "colab": {
          "base_uri": "https://localhost:8080/"
        },
        "id": "aTTcSDl_pip4",
        "outputId": "de935067-9cc2-446f-a691-dca506365043"
      },
      "execution_count": 1,
      "outputs": [
        {
          "output_type": "stream",
          "name": "stdout",
          "text": [
            "{'banana', 'apple', 'cherry'}\n"
          ]
        }
      ]
    }
  ]
}